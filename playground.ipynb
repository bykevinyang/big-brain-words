{
 "cells": [
  {
   "cell_type": "code",
   "execution_count": 3,
   "metadata": {},
   "outputs": [],
   "source": [
    "# importing required modules \n",
    "import PyPDF2"
   ]
  },
  {
   "cell_type": "code",
   "execution_count": 1,
   "metadata": {},
   "outputs": [],
   "source": [
    "theWordsYouShouldKnowPath = \"data/The Words You Should Know To Sound Smarter.pdf\""
   ]
  },
  {
   "cell_type": "code",
   "execution_count": 8,
   "metadata": {},
   "outputs": [
    {
     "name": "stdout",
     "output_type": "stream",
     "text": [
      "\t\n",
      "abatement\n",
      "\t\n",
      "(ah-BAIT-ment),\tnoun\n",
      "The\treduction\tor\telimination\tof\ta\ttax,\tclaim,\tfine,\tor\tdebt.\n",
      "By\thaving\ther\tdaddy\tpull\tstrings\tin\tthe\tmayor’s\toffice,\tSylvia\treceived\ta\tquick\tABATEMENT\tof\n",
      "her\ttraffic\tticket.\n",
      "abjure\n",
      "\t\n",
      "(ab-JOOR),\ttransitive\tverb\n",
      "To\trenounce\tor\tturn\tyour\tback\ton\ta\tbelief\tor\tposition\tyou\tonce\theld\tnear\tand\tdear.\n",
      "Once\tJodi\ttasted\tmy\tmouth-watering,\tmedium-rare\tfilet\tmignon,\tshe\tABJURED\tthe\tvegetarian\n",
      "lifestyle\tforever.\n",
      "abominate\n",
      "\t\n",
      "(uh-BOM-in-ate),\tverb\n",
      "When\tyou\t\n",
      "abominate\n",
      "\tsomething,\tyou\treally,\treally\thate\tand\tdislike\tit\t–\tand\tview\tit\twith\n",
      "considerable\tloathing.\n",
      "“For\tmy\tpart,\tI\tABOMINATE\tall\thonorable\trespectable\ttoils,\ttrials,\tand\ttribulations\tof\tevery\tkind\n",
      "whatsoever.”\t–\tHerman\tMelville,\tAmerican\tauthor\n",
      "abscond\n",
      "\t\n",
      "(ab-SKOND),\tverb\n",
      "To\tleave\tin\ta\thurry\tbut\tquietly,\tso\tas\tto\tescape\tnotice,\tespecially\tto\tavoid\ttrouble.\n",
      "Bored\tout\tof\this\twits,\tJared\tABSCONDED\twith\tthe\tfamily\tMercedes,\tbut\the\twrapped\tit\taround\ta\n",
      "large\toak\ttree.\n",
      "abstemious\n",
      "\t\n",
      "(ab-STEE-me-us),\tadjective\n",
      "To\teat\tplain\tand\tsimple\tfood\tin\tmoderation,\tavoiding\tover-indulgence\tin\tdrink\tand\tgluttony\n",
      "at\tthe\ttable.\n",
      "Gandhi\tled\tan\tABSTEMIOUS\tlife.\n",
      "abstruse\n",
      "\t\n",
      "(ab-STROOS),\tadjective\n",
      "Arcane,\tcomplex,\tdifficult\tto\tunderstand\tand\tlearn.\n",
      "Bob\tbegan\tto\twish\tthere\twas,\tin\tfact,\ta\tSanta\tClaus\tbecause\the\tfound\tthe\t“simple\tinstructions”\tto\n",
      "his\tson’s\tbicycle\tfar\ttoo\tABSTRUSE.\n",
      "acculturation\n",
      "\t\n",
      "(ah-kul-cherr-AYE-shin),\tnoun\n",
      "The\tprocess\tof\tadapting\tto\ta\tdifferent\tculture.\n",
      "Just\tbecause\tsushi\tmakes\tme\tqueasy,\tdoesn’t\tmean\tI’m\topposed\tto\tACCULTURATION.\n",
      "acrimonious\n",
      "\t\n",
      "(ah-kri-MOAN-ee-us),\tadjective\n",
      "Angry;\tbitter;\tdisputed.\n",
      "“There\tis\tsomething\tabout\tthe\tliterary\tlife\tthat\trepels\tme,\tall\tthis\tdesperate\tbuilding\n"
     ]
    }
   ],
   "source": [
    "\n",
    "# creating a pdf file object \n",
    "pdfFileObj = open(theWordsYouShouldKnowPath, 'rb') \n",
    "\n",
    "# creating a pdf reader object \n",
    "pdfReader = PyPDF2.PdfFileReader(pdfFileObj) \n",
    "    \n",
    "# creating a page object \n",
    "pageObj = pdfReader.getPage(9) \n",
    "    \n",
    "# extracting text from page \n",
    "print(pageObj.extractText()) \n",
    "    \n",
    "# closing the pdf file object \n",
    "pdfFileObj.close()"
   ]
  },
  {
   "cell_type": "code",
   "execution_count": 65,
   "metadata": {},
   "outputs": [],
   "source": [
    "import pdfplumber\n",
    "import re\n",
    "from typing import List\n",
    "import mytypes"
   ]
  },
  {
   "cell_type": "code",
   "execution_count": 69,
   "metadata": {},
   "outputs": [
    {
     "ename": "TypeError",
     "evalue": "object.__init__() takes exactly one argument (the instance to initialize)",
     "output_type": "error",
     "traceback": [
      "\u001b[0;31m---------------------------------------------------------------------------\u001b[0m",
      "\u001b[0;31mTypeError\u001b[0m                                 Traceback (most recent call last)",
      "Cell \u001b[0;32mIn [69], line 1\u001b[0m\n\u001b[0;32m----> 1\u001b[0m mytypes\u001b[39m.\u001b[39;49mTerm(\u001b[39m\"\u001b[39;49m\u001b[39mtest\u001b[39;49m\u001b[39m\"\u001b[39;49m)\n",
      "File \u001b[0;32m~/projects/big-brain-words/mytypes.py:3\u001b[0m, in \u001b[0;36mTerm.__init__\u001b[0;34m(self, term)\u001b[0m\n\u001b[1;32m      2\u001b[0m \u001b[39mdef\u001b[39;00m \u001b[39m__init__\u001b[39m(\u001b[39mself\u001b[39m, term: \u001b[39mstr\u001b[39m):\n\u001b[0;32m----> 3\u001b[0m     \u001b[39msuper\u001b[39;49m()\u001b[39m.\u001b[39;49m\u001b[39m__init__\u001b[39;49m(term)\n",
      "\u001b[0;31mTypeError\u001b[0m: object.__init__() takes exactly one argument (the instance to initialize)"
     ]
    }
   ],
   "source": [
    "mytypes.Term(\"test\")\n",
    "# mytypes.LowerString(\"TEST\")"
   ]
  },
  {
   "cell_type": "code",
   "execution_count": 37,
   "metadata": {},
   "outputs": [
    {
     "name": "stdout",
     "output_type": "stream",
     "text": [
      "__init__() takes 1 positional argument but 2 were given\n",
      "[]\n"
     ]
    }
   ],
   "source": [
    "\n",
    "terms: List[classes.Term] = []\n",
    "with pdfplumber.open(theWordsYouShouldKnowPath) as pdf: \n",
    "    for i in range(9, 10):\n",
    "        try:\n",
    "            text = pdf.pages[i]                     # extract text from page   \n",
    "            bold_text = text.filter(lambda obj: obj[\"object_type\"] == \"char\" and \"Bold\" in obj[\"fontname\"])                           # filter bold text\n",
    "            word = bold_text.extract_text().strip() # extract text from bold text\n",
    "            for w in word.split():                  # split terms\n",
    "                terms.append(classes.Term(w))                     # append terms to list\n",
    "        except Exception as e:\n",
    "            print(e)\n",
    "print(terms)"
   ]
  }
 ],
 "metadata": {
  "kernelspec": {
   "display_name": ".venv",
   "language": "python",
   "name": "python3"
  },
  "language_info": {
   "codemirror_mode": {
    "name": "ipython",
    "version": 3
   },
   "file_extension": ".py",
   "mimetype": "text/x-python",
   "name": "python",
   "nbconvert_exporter": "python",
   "pygments_lexer": "ipython3",
   "version": "3.9.5"
  },
  "orig_nbformat": 4,
  "vscode": {
   "interpreter": {
    "hash": "2ef5acb1b2606a7437d4c40ef4a2b2ddd484ee72e84177e7530fcd90adc7fbe5"
   }
  }
 },
 "nbformat": 4,
 "nbformat_minor": 2
}
